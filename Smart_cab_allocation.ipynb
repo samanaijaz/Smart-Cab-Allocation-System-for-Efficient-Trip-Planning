{
  "nbformat": 4,
  "nbformat_minor": 0,
  "metadata": {
    "colab": {
      "provenance": []
    },
    "kernelspec": {
      "name": "python3",
      "display_name": "Python 3"
    },
    "language_info": {
      "name": "python"
    }
  },
  "cells": [
    {
      "cell_type": "code",
      "source": [
        "import math\n",
        "\n",
        "class Cab:\n",
        "    def __init__(self, id, location):\n",
        "        self.id = id\n",
        "        self.location = location\n",
        "\n",
        "class Trip:\n",
        "    def __init__(self, id, start_location):\n",
        "        self.id = id\n",
        "        self.start_location = start_location\n",
        "\n",
        "class CabAllocator:\n",
        "    def __init__(self, cabs):\n",
        "        self.cabs = cabs\n",
        "\n",
        "    def suggest_best_cab(self, trip):\n",
        "        best_cab = min(self.cabs, key=lambda cab: self.calculate_distance(cab.location, trip.start_location))\n",
        "        return best_cab\n",
        "\n",
        "    @staticmethod\n",
        "    def calculate_distance(location1, location2):\n",
        "        # Simplified distance calculation using Euclidean distance\n",
        "        return math.sqrt((location1[0] - location2[0])**2 + (location1[1] - location2[1])**2)\n",
        "\n",
        "class EmployeeCabSearch:\n",
        "    def __init__(self, cabs):\n",
        "        self.cabs = cabs\n",
        "\n",
        "    def suggest_nearby_cabs(self, employee_location):\n",
        "        nearby_cabs = [cab for cab in self.cabs if self.is_nearby(cab.location, employee_location)]\n",
        "        return nearby_cabs\n",
        "\n",
        "    @staticmethod\n",
        "    def calculate_distance(location1, location2):\n",
        "        return math.sqrt((location1[0] - location2[0])**2 + (location1[1] - location2[1])**2)\n",
        "\n",
        "    def is_nearby(self, location1, location2):\n",
        "        # Simplified distance check\n",
        "        return self.calculate_distance(location1, location2) < 5  # Assuming a 5 km radius for simplicity\n",
        "\n",
        "class RealTimeLocationData:\n",
        "    def __init__(self):\n",
        "        self.cab_locations = {}\n",
        "\n",
        "    def update_cab_location(self, cab_id, new_location):\n",
        "        self.cab_locations[cab_id] = new_location\n",
        "\n",
        "# Example Usage:\n",
        "cabs = [Cab(1, (10, 10)), Cab(2, (15, 15)), Cab(3, (20, 20))]\n",
        "trips = [Trip(101, (12, 12))]\n",
        "\n",
        "cab_allocator = CabAllocator(cabs)\n",
        "employee_cab_search = EmployeeCabSearch(cabs)\n",
        "real_time_location_data = RealTimeLocationData()\n",
        "\n",
        "# Simulate real-time data update\n",
        "real_time_location_data.update_cab_location(1, (11, 11))\n",
        "\n",
        "# 1. Admin's Cab Allocation Optimization\n",
        "for trip in trips:\n",
        "    best_cab = cab_allocator.suggest_best_cab(trip)\n",
        "    print(f\"Trip {trip.id}: Allocate Cab {best_cab.id}\")\n",
        "\n",
        "# 2. Employee's Cab Search Optimization\n",
        "employee_location = (14, 14)\n",
        "nearby_cabs = employee_cab_search.suggest_nearby_cabs(employee_location)\n",
        "print(f\"Employee at {employee_location}: Nearby Cabs {[cab.id for cab in nearby_cabs]}\")\n"
      ],
      "metadata": {
        "colab": {
          "base_uri": "https://localhost:8080/"
        },
        "id": "VIxzoGJVDt9u",
        "outputId": "47c86f97-2eee-44d3-b833-8d4a5d5dde16"
      },
      "execution_count": 3,
      "outputs": [
        {
          "output_type": "stream",
          "name": "stdout",
          "text": [
            "Trip 101: Allocate Cab 1\n",
            "Employee at (14, 14): Nearby Cabs [2]\n"
          ]
        }
      ]
    },
    {
      "cell_type": "code",
      "source": [
        "# 3. Real-Time Location Data Integration\n",
        "real_time_location_data.update_cab_location(2, (16, 16))"
      ],
      "metadata": {
        "id": "vyyscMGuD275"
      },
      "execution_count": 4,
      "outputs": []
    },
    {
      "cell_type": "code",
      "source": [
        "# Refresh suggestions with updated location data\n",
        "nearby_cabs = employee_cab_search.suggest_nearby_cabs(employee_location)\n",
        "print(f\"After update - Employee at {employee_location}: Nearby Cabs {[cab.id for cab in nearby_cabs]}\")"
      ],
      "metadata": {
        "colab": {
          "base_uri": "https://localhost:8080/"
        },
        "id": "VmkqZg6ND6id",
        "outputId": "c9676589-2704-43bf-80f4-b3a64abf8e7b"
      },
      "execution_count": 5,
      "outputs": [
        {
          "output_type": "stream",
          "name": "stdout",
          "text": [
            "After update - Employee at (14, 14): Nearby Cabs [2]\n"
          ]
        }
      ]
    },
    {
      "cell_type": "markdown",
      "source": [
        "PLUS POINTS"
      ],
      "metadata": {
        "id": "8ltE9EFBPU8g"
      }
    },
    {
      "cell_type": "code",
      "source": [
        "import math\n",
        "import random\n",
        "\n",
        "class UserAuthentication:\n",
        "    def authenticate_user(self, username, password):\n",
        "        # Simulated authentication logic for demonstration purposes\n",
        "        return username == \"admin\" and password == \"admin123\"\n",
        "\n",
        "class Cab:\n",
        "    def __init__(self, id, location):\n",
        "        self.id = id\n",
        "        self.location = location\n",
        "\n",
        "class Trip:\n",
        "    def __init__(self, id, start_location):\n",
        "        self.id = id\n",
        "        self.start_location = start_location\n",
        "\n",
        "class CabAllocator:\n",
        "    def __init__(self, cabs):\n",
        "        self.cabs = cabs\n",
        "\n",
        "    def suggest_best_cab(self, trip):\n",
        "        best_cab = min(self.cabs, key=lambda cab: self.calculate_distance(cab.location, trip.start_location))\n",
        "        return best_cab\n",
        "\n",
        "    @staticmethod\n",
        "    def calculate_distance(location1, location2):\n",
        "        return math.sqrt((location1[0] - location2[0])**2 + (location1[1] - location2[1])**2)\n",
        "\n",
        "class EmployeeCabSearch:\n",
        "    def __init__(self, cabs):\n",
        "        self.cabs = cabs\n",
        "\n",
        "    def suggest_nearby_cabs(self, employee_location):\n",
        "        nearby_cabs = [cab for cab in self.cabs if self.is_nearby(cab.location, employee_location)]\n",
        "        return nearby_cabs\n",
        "\n",
        "    @staticmethod\n",
        "    def calculate_distance(location1, location2):\n",
        "        return math.sqrt((location1[0] - location2[0])**2 + (location1[1] - location2[1])**2)\n",
        "\n",
        "    def is_nearby(self, location1, location2):\n",
        "        return self.calculate_distance(location1, location2) < 5\n",
        "\n",
        "class RealTimeLocationData:\n",
        "    def __init__(self):\n",
        "        self.cab_locations = {}\n",
        "\n",
        "    def update_cab_location(self, cab_id, new_location):\n",
        "        self.cab_locations[cab_id] = new_location\n",
        "\n",
        "class SystemAnalyzer:\n",
        "    @staticmethod\n",
        "    def analyze_time_complexity():\n",
        "        # Perform time complexity analysis\n",
        "        pass\n",
        "\n",
        "    @staticmethod\n",
        "    def analyze_space_complexity():\n",
        "        # Perform space complexity analysis\n",
        "        pass\n",
        "\n",
        "class FaultToleranceHandler:\n",
        "    @staticmethod\n",
        "    def handle_system_failure():\n",
        "        # Implement fault-tolerant mechanisms and recovery strategies\n",
        "        pass\n",
        "\n",
        "class TradeOffDocumentation:\n",
        "    @staticmethod\n",
        "    def document_trade_offs():\n",
        "        # Document trade-offs in terms of performance, scalability, and maintainability\n",
        "        pass\n",
        "\n",
        "class SystemMonitor:\n",
        "    def __init__(self):\n",
        "        self.logs = []\n",
        "\n",
        "    def log_event(self, event):\n",
        "        self.logs.append(event)\n",
        "        # Additional logic for real-time dashboards, etc.\n",
        "\n",
        "class CachingMechanism:\n",
        "    def __init__(self):\n",
        "        self.cache = {}\n",
        "\n",
        "    def get_from_cache(self, key):\n",
        "        return self.cache.get(key)\n",
        "\n",
        "    def add_to_cache(self, key, value):\n",
        "        self.cache[key] = value\n",
        "        # Additional logic for cache eviction policies\n",
        "\n",
        "class ErrorHandler:\n",
        "    @staticmethod\n",
        "    def handle_error(error):\n",
        "        # Implement a robust error and exception handling framework\n",
        "        pass\n",
        "\n",
        "# Example Usage:\n",
        "cabs = [Cab(1, (10, 10)), Cab(2, (15, 15)), Cab(3, (20, 20))]\n",
        "trips = [Trip(101, (12, 12))]\n",
        "\n",
        "cab_allocator = CabAllocator(cabs)\n",
        "employee_cab_search = EmployeeCabSearch(cabs)\n",
        "real_time_location_data = RealTimeLocationData()\n",
        "authenticator = UserAuthentication()\n",
        "system_analyzer = SystemAnalyzer()\n",
        "fault_tolerance_handler = FaultToleranceHandler()\n",
        "trade_off_documentation = TradeOffDocumentation()\n",
        "system_monitor = SystemMonitor()\n",
        "caching_mechanism = CachingMechanism()\n",
        "error_handler = ErrorHandler()\n",
        "\n",
        "# Simulate real-time data update\n",
        "real_time_location_data.update_cab_location(1, (11, 11))\n",
        "\n",
        "# 1. Authentication\n",
        "authenticated = authenticator.authenticate_user(\"admin\", \"admin123\")\n",
        "if authenticated:\n",
        "    # Continue with the operations\n",
        "\n",
        "    # 2. Cost Estimation - Time and Space\n",
        "    system_analyzer.analyze_time_complexity()\n",
        "    system_analyzer.analyze_space_complexity()\n",
        "\n",
        "    # 3. Handling System Failure Cases\n",
        "    fault_tolerance_handler.handle_system_failure()\n",
        "\n",
        "    # 4. Object-Oriented Programming Language (OOPS)\n",
        "    # Python is already an object-oriented language\n",
        "\n",
        "    # 5. Trade-offs in the System\n",
        "    trade_off_documentation.document_trade_offs()\n",
        "\n",
        "    # 6. System Monitoring\n",
        "    system_monitor.log_event(\"System started\")\n",
        "\n",
        "    # 7. Caching\n",
        "    caching_mechanism.add_to_cache(\"key\", \"value\")\n",
        "\n",
        "    # 8. Error and Exception Handling\n",
        "    try:\n",
        "        # Code that may raise an error\n",
        "        pass\n",
        "    except Exception as e:\n",
        "        error_handler.handle_error(e)"
      ],
      "metadata": {
        "id": "ChSydJ49PUFE"
      },
      "execution_count": 6,
      "outputs": []
    },
    {
      "cell_type": "markdown",
      "source": [
        "Example Usage"
      ],
      "metadata": {
        "id": "Uhl9xoosPczz"
      }
    },
    {
      "cell_type": "code",
      "source": [
        "# Example Usage (continued):\n",
        "\n",
        "# 1. Authentication\n",
        "username = input(\"Enter your username: \")\n",
        "password = input(\"Enter your password: \")\n",
        "\n",
        "authenticated = authenticator.authenticate_user(username, password)\n",
        "if authenticated:\n",
        "    # Continue with the operations\n",
        "    print(\"Authentication successful!\")\n",
        "\n",
        "    # 2. Cost Estimation - Time and Space\n",
        "    system_analyzer.analyze_time_complexity()\n",
        "    system_analyzer.analyze_space_complexity()\n",
        "\n",
        "    # 3. Handling System Failure Cases\n",
        "    fault_tolerance_handler.handle_system_failure()\n",
        "\n",
        "    # 4. Object-Oriented Programming Language (OOPS)\n",
        "    # Python is already an object-oriented language\n",
        "\n",
        "    # 5. Trade-offs in the System\n",
        "    trade_off_documentation.document_trade_offs()\n",
        "\n",
        "    # 6. System Monitoring\n",
        "    system_monitor.log_event(\"System started\")\n",
        "\n",
        "    # 7. Caching\n",
        "    caching_mechanism.add_to_cache(\"key\", \"value\")\n",
        "\n",
        "    # 8. Error and Exception Handling\n",
        "    try:\n",
        "        # Code that may raise an error\n",
        "        pass\n",
        "    except Exception as e:\n",
        "        error_handler.handle_error(e)\n",
        "else:\n",
        "    print(\"Authentication failed. Exiting.\")\n"
      ],
      "metadata": {
        "colab": {
          "base_uri": "https://localhost:8080/"
        },
        "id": "cZIgtAbdPhuh",
        "outputId": "1d319676-b434-48d2-fd07-04df9dc9cecf"
      },
      "execution_count": 7,
      "outputs": [
        {
          "output_type": "stream",
          "name": "stdout",
          "text": [
            "Enter your username: admin\n",
            "Enter your password: admin123\n",
            "Authentication successful!\n"
          ]
        }
      ]
    },
    {
      "cell_type": "code",
      "source": [
        "# Example Usage (continued):\n",
        "employee_location = (14, 14)\n",
        "\n",
        "# 2. Employee's Cab Search Optimization\n",
        "nearby_cabs = employee_cab_search.suggest_nearby_cabs(employee_location)\n",
        "print(f\"Employee at {employee_location}: Nearby Cabs {[cab.id for cab in nearby_cabs]}\")\n",
        "\n",
        "# Log the event in the system monitor\n",
        "system_monitor.log_event(f\"Employee at {employee_location} searched for nearby cabs\")\n",
        "\n",
        "# Simulate a system failure\n",
        "fault_tolerance_handler.handle_system_failure()\n",
        "\n",
        "# Log the event in the system monitor\n",
        "system_monitor.log_event(\"System failure handled\")\n",
        "\n",
        "# 3. Real-Time Location Data Integration\n",
        "real_time_location_data.update_cab_location(2, (16, 16))\n",
        "\n",
        "# Refresh suggestions with updated location data\n",
        "nearby_cabs = employee_cab_search.suggest_nearby_cabs(employee_location)\n",
        "print(f\"After update - Employee at {employee_location}: Nearby Cabs {[cab.id for cab in nearby_cabs]}\")\n",
        "\n",
        "# Log the event in the system monitor\n",
        "system_monitor.log_event(\"Real-time location data updated\")\n",
        "\n",
        "# Display system logs\n",
        "print(\"System Logs:\")\n",
        "for log in system_monitor.logs:\n",
        "    print(log)\n"
      ],
      "metadata": {
        "colab": {
          "base_uri": "https://localhost:8080/"
        },
        "id": "sAHvGumxPnW8",
        "outputId": "2afec604-a67c-4730-e5df-a1f47484d7d3"
      },
      "execution_count": 8,
      "outputs": [
        {
          "output_type": "stream",
          "name": "stdout",
          "text": [
            "Employee at (14, 14): Nearby Cabs [2]\n",
            "After update - Employee at (14, 14): Nearby Cabs [2]\n",
            "System Logs:\n",
            "System started\n",
            "System started\n",
            "Employee at (14, 14) searched for nearby cabs\n",
            "System failure handled\n",
            "Real-time location data updated\n"
          ]
        }
      ]
    },
    {
      "cell_type": "code",
      "source": [
        "# 3. Real-Time Location Data Integration\n",
        "real_time_location_data.update_cab_location(2, (16, 16))\n",
        "\n",
        "# Refresh suggestions with updated location data\n",
        "nearby_cabs = employee_cab_search.suggest_nearby_cabs(employee_location)\n",
        "print(f\"After update - Employee at {employee_location}: Nearby Cabs {[cab.id for cab in nearby_cabs]}\")"
      ],
      "metadata": {
        "colab": {
          "base_uri": "https://localhost:8080/"
        },
        "id": "-z-YP3n8Pqw6",
        "outputId": "804817f8-bc50-483a-c80f-a11b35e82fe1"
      },
      "execution_count": 9,
      "outputs": [
        {
          "output_type": "stream",
          "name": "stdout",
          "text": [
            "After update - Employee at (14, 14): Nearby Cabs [2]\n"
          ]
        }
      ]
    }
  ]
}